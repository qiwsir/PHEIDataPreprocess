{
 "cells": [
  {
   "cell_type": "markdown",
   "metadata": {},
   "source": [
    "## 2.2 处理重复数据\n",
    "\n",
    "推荐阅读：\n",
    "\n",
    "- 《跟老齐学Python：数据分析》\n",
    "- 《Python大学实用教程》"
   ]
  },
  {
   "cell_type": "code",
   "execution_count": 1,
   "metadata": {},
   "outputs": [
    {
     "data": {
      "text/html": [
       "<div>\n",
       "<style scoped>\n",
       "    .dataframe tbody tr th:only-of-type {\n",
       "        vertical-align: middle;\n",
       "    }\n",
       "\n",
       "    .dataframe tbody tr th {\n",
       "        vertical-align: top;\n",
       "    }\n",
       "\n",
       "    .dataframe thead th {\n",
       "        text-align: right;\n",
       "    }\n",
       "</style>\n",
       "<table border=\"1\" class=\"dataframe\">\n",
       "  <thead>\n",
       "    <tr style=\"text-align: right;\">\n",
       "      <th></th>\n",
       "      <th>Name</th>\n",
       "      <th>Age</th>\n",
       "      <th>Score</th>\n",
       "    </tr>\n",
       "  </thead>\n",
       "  <tbody>\n",
       "    <tr>\n",
       "      <th>0</th>\n",
       "      <td>Newton</td>\n",
       "      <td>26</td>\n",
       "      <td>90</td>\n",
       "    </tr>\n",
       "    <tr>\n",
       "      <th>1</th>\n",
       "      <td>Galilei</td>\n",
       "      <td>30</td>\n",
       "      <td>80</td>\n",
       "    </tr>\n",
       "    <tr>\n",
       "      <th>2</th>\n",
       "      <td>Einstein</td>\n",
       "      <td>28</td>\n",
       "      <td>90</td>\n",
       "    </tr>\n",
       "    <tr>\n",
       "      <th>3</th>\n",
       "      <td>Feynman</td>\n",
       "      <td>28</td>\n",
       "      <td>100</td>\n",
       "    </tr>\n",
       "    <tr>\n",
       "      <th>4</th>\n",
       "      <td>Newton</td>\n",
       "      <td>26</td>\n",
       "      <td>90</td>\n",
       "    </tr>\n",
       "    <tr>\n",
       "      <th>5</th>\n",
       "      <td>Maxwell</td>\n",
       "      <td>39</td>\n",
       "      <td>70</td>\n",
       "    </tr>\n",
       "    <tr>\n",
       "      <th>6</th>\n",
       "      <td>Galilei</td>\n",
       "      <td>40</td>\n",
       "      <td>90</td>\n",
       "    </tr>\n",
       "  </tbody>\n",
       "</table>\n",
       "</div>"
      ],
      "text/plain": [
       "       Name  Age  Score\n",
       "0    Newton   26     90\n",
       "1   Galilei   30     80\n",
       "2  Einstein   28     90\n",
       "3   Feynman   28    100\n",
       "4    Newton   26     90\n",
       "5   Maxwell   39     70\n",
       "6   Galilei   40     90"
      ]
     },
     "execution_count": 1,
     "metadata": {},
     "output_type": "execute_result"
    }
   ],
   "source": [
    "import pandas as pd\n",
    "d = {'Name':['Newton', 'Galilei', 'Einstein', 'Feynman', 'Newton', 'Maxwell', 'Galilei'],\n",
    "             'Age':[26, 30, 28, 28, 26, 39, 40],\n",
    "             'Score':[90, 80, 90, 100, 90, 70, 90]}\n",
    "df = pd.DataFrame(d,columns=['Name','Age','Score'])\n",
    "df"
   ]
  },
  {
   "cell_type": "markdown",
   "metadata": {},
   "source": [
    "**基础知识**"
   ]
  },
  {
   "cell_type": "code",
   "execution_count": 2,
   "metadata": {},
   "outputs": [
    {
     "data": {
      "text/plain": [
       "0    False\n",
       "1    False\n",
       "2    False\n",
       "3    False\n",
       "4     True\n",
       "5    False\n",
       "6    False\n",
       "dtype: bool"
      ]
     },
     "execution_count": 2,
     "metadata": {},
     "output_type": "execute_result"
    }
   ],
   "source": [
    "df.duplicated()"
   ]
  },
  {
   "cell_type": "code",
   "execution_count": 3,
   "metadata": {},
   "outputs": [],
   "source": [
    "df.duplicated?"
   ]
  },
  {
   "cell_type": "code",
   "execution_count": 4,
   "metadata": {},
   "outputs": [
    {
     "data": {
      "text/plain": [
       "0     True\n",
       "1    False\n",
       "2     True\n",
       "3    False\n",
       "4    False\n",
       "5    False\n",
       "6    False\n",
       "dtype: bool"
      ]
     },
     "execution_count": 4,
     "metadata": {},
     "output_type": "execute_result"
    }
   ],
   "source": [
    "df.duplicated('Age', keep='last')"
   ]
  },
  {
   "cell_type": "code",
   "execution_count": 5,
   "metadata": {},
   "outputs": [
    {
     "data": {
      "text/plain": [
       "0    False\n",
       "1    False\n",
       "2    False\n",
       "3    False\n",
       "4     True\n",
       "5    False\n",
       "6    False\n",
       "dtype: bool"
      ]
     },
     "execution_count": 5,
     "metadata": {},
     "output_type": "execute_result"
    }
   ],
   "source": [
    "df.duplicated(['Age', 'Score'])"
   ]
  },
  {
   "cell_type": "code",
   "execution_count": 6,
   "metadata": {},
   "outputs": [
    {
     "data": {
      "text/html": [
       "<div>\n",
       "<style scoped>\n",
       "    .dataframe tbody tr th:only-of-type {\n",
       "        vertical-align: middle;\n",
       "    }\n",
       "\n",
       "    .dataframe tbody tr th {\n",
       "        vertical-align: top;\n",
       "    }\n",
       "\n",
       "    .dataframe thead th {\n",
       "        text-align: right;\n",
       "    }\n",
       "</style>\n",
       "<table border=\"1\" class=\"dataframe\">\n",
       "  <thead>\n",
       "    <tr style=\"text-align: right;\">\n",
       "      <th></th>\n",
       "      <th>Name</th>\n",
       "      <th>Age</th>\n",
       "      <th>Score</th>\n",
       "    </tr>\n",
       "  </thead>\n",
       "  <tbody>\n",
       "    <tr>\n",
       "      <th>0</th>\n",
       "      <td>Newton</td>\n",
       "      <td>26</td>\n",
       "      <td>90</td>\n",
       "    </tr>\n",
       "    <tr>\n",
       "      <th>1</th>\n",
       "      <td>Galilei</td>\n",
       "      <td>30</td>\n",
       "      <td>80</td>\n",
       "    </tr>\n",
       "    <tr>\n",
       "      <th>2</th>\n",
       "      <td>Einstein</td>\n",
       "      <td>28</td>\n",
       "      <td>90</td>\n",
       "    </tr>\n",
       "    <tr>\n",
       "      <th>3</th>\n",
       "      <td>Feynman</td>\n",
       "      <td>28</td>\n",
       "      <td>100</td>\n",
       "    </tr>\n",
       "    <tr>\n",
       "      <th>5</th>\n",
       "      <td>Maxwell</td>\n",
       "      <td>39</td>\n",
       "      <td>70</td>\n",
       "    </tr>\n",
       "    <tr>\n",
       "      <th>6</th>\n",
       "      <td>Galilei</td>\n",
       "      <td>40</td>\n",
       "      <td>90</td>\n",
       "    </tr>\n",
       "  </tbody>\n",
       "</table>\n",
       "</div>"
      ],
      "text/plain": [
       "       Name  Age  Score\n",
       "0    Newton   26     90\n",
       "1   Galilei   30     80\n",
       "2  Einstein   28     90\n",
       "3   Feynman   28    100\n",
       "5   Maxwell   39     70\n",
       "6   Galilei   40     90"
      ]
     },
     "execution_count": 6,
     "metadata": {},
     "output_type": "execute_result"
    }
   ],
   "source": [
    "df.drop_duplicates()"
   ]
  },
  {
   "cell_type": "code",
   "execution_count": 7,
   "metadata": {},
   "outputs": [
    {
     "data": {
      "text/html": [
       "<div>\n",
       "<style scoped>\n",
       "    .dataframe tbody tr th:only-of-type {\n",
       "        vertical-align: middle;\n",
       "    }\n",
       "\n",
       "    .dataframe tbody tr th {\n",
       "        vertical-align: top;\n",
       "    }\n",
       "\n",
       "    .dataframe thead th {\n",
       "        text-align: right;\n",
       "    }\n",
       "</style>\n",
       "<table border=\"1\" class=\"dataframe\">\n",
       "  <thead>\n",
       "    <tr style=\"text-align: right;\">\n",
       "      <th></th>\n",
       "      <th>Name</th>\n",
       "      <th>Age</th>\n",
       "      <th>Score</th>\n",
       "    </tr>\n",
       "  </thead>\n",
       "  <tbody>\n",
       "    <tr>\n",
       "      <th>1</th>\n",
       "      <td>Galilei</td>\n",
       "      <td>30</td>\n",
       "      <td>80</td>\n",
       "    </tr>\n",
       "    <tr>\n",
       "      <th>3</th>\n",
       "      <td>Feynman</td>\n",
       "      <td>28</td>\n",
       "      <td>100</td>\n",
       "    </tr>\n",
       "    <tr>\n",
       "      <th>4</th>\n",
       "      <td>Newton</td>\n",
       "      <td>26</td>\n",
       "      <td>90</td>\n",
       "    </tr>\n",
       "    <tr>\n",
       "      <th>5</th>\n",
       "      <td>Maxwell</td>\n",
       "      <td>39</td>\n",
       "      <td>70</td>\n",
       "    </tr>\n",
       "    <tr>\n",
       "      <th>6</th>\n",
       "      <td>Galilei</td>\n",
       "      <td>40</td>\n",
       "      <td>90</td>\n",
       "    </tr>\n",
       "  </tbody>\n",
       "</table>\n",
       "</div>"
      ],
      "text/plain": [
       "      Name  Age  Score\n",
       "1  Galilei   30     80\n",
       "3  Feynman   28    100\n",
       "4   Newton   26     90\n",
       "5  Maxwell   39     70\n",
       "6  Galilei   40     90"
      ]
     },
     "execution_count": 7,
     "metadata": {},
     "output_type": "execute_result"
    }
   ],
   "source": [
    "df.drop_duplicates('Age', keep='last')"
   ]
  },
  {
   "cell_type": "markdown",
   "metadata": {},
   "source": [
    "**项目案例**"
   ]
  },
  {
   "cell_type": "code",
   "execution_count": 8,
   "metadata": {},
   "outputs": [
    {
     "data": {
      "text/plain": [
       "Name     0.142857\n",
       "Age      0.142857\n",
       "Score    0.142857\n",
       "dtype: float64"
      ]
     },
     "execution_count": 8,
     "metadata": {},
     "output_type": "execute_result"
    }
   ],
   "source": [
    "df[df.duplicated()].count() / df.count()"
   ]
  },
  {
   "cell_type": "code",
   "execution_count": 9,
   "metadata": {},
   "outputs": [
    {
     "data": {
      "text/plain": [
       "True"
      ]
     },
     "execution_count": 9,
     "metadata": {},
     "output_type": "execute_result"
    }
   ],
   "source": [
    "df.duplicated().any()"
   ]
  },
  {
   "cell_type": "markdown",
   "metadata": {},
   "source": [
    "**动手练习**"
   ]
  },
  {
   "cell_type": "code",
   "execution_count": 13,
   "metadata": {},
   "outputs": [
    {
     "data": {
      "text/html": [
       "<div>\n",
       "<style scoped>\n",
       "    .dataframe tbody tr th:only-of-type {\n",
       "        vertical-align: middle;\n",
       "    }\n",
       "\n",
       "    .dataframe tbody tr th {\n",
       "        vertical-align: top;\n",
       "    }\n",
       "\n",
       "    .dataframe thead th {\n",
       "        text-align: right;\n",
       "    }\n",
       "</style>\n",
       "<table border=\"1\" class=\"dataframe\">\n",
       "  <thead>\n",
       "    <tr style=\"text-align: right;\">\n",
       "      <th></th>\n",
       "      <th>2019年3月</th>\n",
       "      <th>2019年2月</th>\n",
       "      <th>2019年1月</th>\n",
       "      <th>2018年12月</th>\n",
       "      <th>2018年11月</th>\n",
       "      <th>2018年10月</th>\n",
       "      <th>2018年9月</th>\n",
       "      <th>2018年8月</th>\n",
       "      <th>2018年7月</th>\n",
       "      <th>2018年6月</th>\n",
       "      <th>2018年5月</th>\n",
       "      <th>2018年4月</th>\n",
       "      <th>cpi_index</th>\n",
       "    </tr>\n",
       "  </thead>\n",
       "  <tbody>\n",
       "    <tr>\n",
       "      <th>0</th>\n",
       "      <td>102.3</td>\n",
       "      <td>101.5</td>\n",
       "      <td>101.7</td>\n",
       "      <td>101.9</td>\n",
       "      <td>102.2</td>\n",
       "      <td>102.5</td>\n",
       "      <td>102.5</td>\n",
       "      <td>102.3</td>\n",
       "      <td>102.1</td>\n",
       "      <td>101.9</td>\n",
       "      <td>101.8</td>\n",
       "      <td>101.8</td>\n",
       "      <td>总体消费</td>\n",
       "    </tr>\n",
       "    <tr>\n",
       "      <th>1</th>\n",
       "      <td>103.5</td>\n",
       "      <td>101.2</td>\n",
       "      <td>102</td>\n",
       "      <td>102.4</td>\n",
       "      <td>102.5</td>\n",
       "      <td>102.9</td>\n",
       "      <td>103</td>\n",
       "      <td>101.9</td>\n",
       "      <td>101</td>\n",
       "      <td>100.8</td>\n",
       "      <td>100.7</td>\n",
       "      <td>101.1</td>\n",
       "      <td>食品烟酒</td>\n",
       "    </tr>\n",
       "    <tr>\n",
       "      <th>2</th>\n",
       "      <td>102</td>\n",
       "      <td>102</td>\n",
       "      <td>101.6</td>\n",
       "      <td>101.5</td>\n",
       "      <td>101.4</td>\n",
       "      <td>101.4</td>\n",
       "      <td>101.2</td>\n",
       "      <td>101.3</td>\n",
       "      <td>101.2</td>\n",
       "      <td>101.1</td>\n",
       "      <td>101.1</td>\n",
       "      <td>101.1</td>\n",
       "      <td>衣着</td>\n",
       "    </tr>\n",
       "    <tr>\n",
       "      <th>3</th>\n",
       "      <td>102.1</td>\n",
       "      <td>102.2</td>\n",
       "      <td>102.1</td>\n",
       "      <td>102.2</td>\n",
       "      <td>102.4</td>\n",
       "      <td>102.5</td>\n",
       "      <td>102.6</td>\n",
       "      <td>102.5</td>\n",
       "      <td>102.4</td>\n",
       "      <td>102.3</td>\n",
       "      <td>102.2</td>\n",
       "      <td>102.2</td>\n",
       "      <td>居住</td>\n",
       "    </tr>\n",
       "    <tr>\n",
       "      <th>4</th>\n",
       "      <td>101.2</td>\n",
       "      <td>101.3</td>\n",
       "      <td>101.5</td>\n",
       "      <td>101.4</td>\n",
       "      <td>101.5</td>\n",
       "      <td>101.5</td>\n",
       "      <td>101.6</td>\n",
       "      <td>101.6</td>\n",
       "      <td>101.6</td>\n",
       "      <td>101.5</td>\n",
       "      <td>101.5</td>\n",
       "      <td>101.5</td>\n",
       "      <td>生活服务</td>\n",
       "    </tr>\n",
       "    <tr>\n",
       "      <th>5</th>\n",
       "      <td>100.1</td>\n",
       "      <td>98.8</td>\n",
       "      <td>98.7</td>\n",
       "      <td>99.3</td>\n",
       "      <td>101.6</td>\n",
       "      <td>103.2</td>\n",
       "      <td>102.8</td>\n",
       "      <td>102.7</td>\n",
       "      <td>103</td>\n",
       "      <td>102.4</td>\n",
       "      <td>101.8</td>\n",
       "      <td>101.1</td>\n",
       "      <td>交通通信</td>\n",
       "    </tr>\n",
       "    <tr>\n",
       "      <th>6</th>\n",
       "      <td>102.4</td>\n",
       "      <td>102.4</td>\n",
       "      <td>102.9</td>\n",
       "      <td>102.3</td>\n",
       "      <td>102.5</td>\n",
       "      <td>102.5</td>\n",
       "      <td>102.2</td>\n",
       "      <td>102.6</td>\n",
       "      <td>102.3</td>\n",
       "      <td>101.8</td>\n",
       "      <td>101.9</td>\n",
       "      <td>102</td>\n",
       "      <td>教育娱乐</td>\n",
       "    </tr>\n",
       "    <tr>\n",
       "      <th>7</th>\n",
       "      <td>102.7</td>\n",
       "      <td>102.8</td>\n",
       "      <td>102.7</td>\n",
       "      <td>102.5</td>\n",
       "      <td>102.6</td>\n",
       "      <td>102.6</td>\n",
       "      <td>102.7</td>\n",
       "      <td>104.3</td>\n",
       "      <td>104.6</td>\n",
       "      <td>105</td>\n",
       "      <td>105.1</td>\n",
       "      <td>105.2</td>\n",
       "      <td>医保</td>\n",
       "    </tr>\n",
       "    <tr>\n",
       "      <th>8</th>\n",
       "      <td>101.9</td>\n",
       "      <td>102</td>\n",
       "      <td>102.3</td>\n",
       "      <td>101.6</td>\n",
       "      <td>101.5</td>\n",
       "      <td>101.3</td>\n",
       "      <td>100.7</td>\n",
       "      <td>101.2</td>\n",
       "      <td>101.2</td>\n",
       "      <td>100.9</td>\n",
       "      <td>101</td>\n",
       "      <td>100.9</td>\n",
       "      <td>其他</td>\n",
       "    </tr>\n",
       "  </tbody>\n",
       "</table>\n",
       "</div>"
      ],
      "text/plain": [
       "  2019年3月 2019年2月 2019年1月 2018年12月 2018年11月 2018年10月 2018年9月 2018年8月 2018年7月  \\\n",
       "0   102.3   101.5   101.7    101.9    102.2    102.5   102.5   102.3   102.1   \n",
       "1   103.5   101.2     102    102.4    102.5    102.9     103   101.9     101   \n",
       "2     102     102   101.6    101.5    101.4    101.4   101.2   101.3   101.2   \n",
       "3   102.1   102.2   102.1    102.2    102.4    102.5   102.6   102.5   102.4   \n",
       "4   101.2   101.3   101.5    101.4    101.5    101.5   101.6   101.6   101.6   \n",
       "5   100.1    98.8    98.7     99.3    101.6    103.2   102.8   102.7     103   \n",
       "6   102.4   102.4   102.9    102.3    102.5    102.5   102.2   102.6   102.3   \n",
       "7   102.7   102.8   102.7    102.5    102.6    102.6   102.7   104.3   104.6   \n",
       "8   101.9     102   102.3    101.6    101.5    101.3   100.7   101.2   101.2   \n",
       "\n",
       "  2018年6月 2018年5月 2018年4月 cpi_index  \n",
       "0   101.9   101.8   101.8      总体消费  \n",
       "1   100.8   100.7   101.1      食品烟酒  \n",
       "2   101.1   101.1   101.1        衣着  \n",
       "3   102.3   102.2   102.2        居住  \n",
       "4   101.5   101.5   101.5      生活服务  \n",
       "5   102.4   101.8   101.1      交通通信  \n",
       "6   101.8   101.9     102      教育娱乐  \n",
       "7     105   105.1   105.2        医保  \n",
       "8   100.9     101   100.9        其他  "
      ]
     },
     "execution_count": 13,
     "metadata": {},
     "output_type": "execute_result"
    }
   ],
   "source": [
    "path = \"/Users/qiwsir/Documents/Codes/DataSet\"\n",
    "cpi = pd.read_excel(path + \"/cpi/cpi.xls\")\n",
    "cpi.columns = cpi.iloc[1]    \n",
    "cpi = cpi[2:]    \n",
    "cpi.drop([11, 12], axis=0, inplace=True)    \n",
    "cpi['cpi_index'] = ['总体消费', '食品烟酒', '衣着', '居住', '生活服务', '交通通信', '教育娱乐', '医保', '其他']\n",
    "cpi.drop(['指标'], axis=1, inplace=True)    \n",
    "cpi.reset_index(drop=True, inplace=True)    \n",
    "cpi.columns.rename('', inplace=True)    \n",
    "cpi"
   ]
  },
  {
   "cell_type": "code",
   "execution_count": 43,
   "metadata": {},
   "outputs": [
    {
     "data": {
      "text/plain": [
       "[0.0, 0.11, 0.0, 0.0, 0.22, 0.22, 0.0, 0.0, 0.11, 0.0, 0.11, 0.22, 0.0]"
      ]
     },
     "execution_count": 43,
     "metadata": {},
     "output_type": "execute_result"
    }
   ],
   "source": [
    "dup_ratio = []\n",
    "for column in cpi.columns:\n",
    "    col = cpi[column]\n",
    "    ratio = col[col.duplicated()].count() / col.count()\n",
    "    dup_ratio.append(round(ratio, 2))\n",
    "dup_ratio"
   ]
  },
  {
   "cell_type": "code",
   "execution_count": 44,
   "metadata": {},
   "outputs": [
    {
     "data": {
      "text/plain": [
       "\n",
       "2019年3月      0.00\n",
       "2019年2月      0.11\n",
       "2019年1月      0.00\n",
       "2018年12月     0.00\n",
       "2018年11月     0.22\n",
       "2018年10月     0.22\n",
       "2018年9月      0.00\n",
       "2018年8月      0.00\n",
       "2018年7月      0.11\n",
       "2018年6月      0.00\n",
       "2018年5月      0.11\n",
       "2018年4月      0.22\n",
       "cpi_index    0.00\n",
       "dtype: float64"
      ]
     },
     "execution_count": 44,
     "metadata": {},
     "output_type": "execute_result"
    }
   ],
   "source": [
    "dr = pd.Series(dup_ratio, index=cpi.columns)\n",
    "dr"
   ]
  },
  {
   "cell_type": "code",
   "execution_count": null,
   "metadata": {},
   "outputs": [],
   "source": []
  }
 ],
 "metadata": {
  "kernelspec": {
   "display_name": "Python 3",
   "language": "python",
   "name": "python3"
  },
  "language_info": {
   "codemirror_mode": {
    "name": "ipython",
    "version": 3
   },
   "file_extension": ".py",
   "mimetype": "text/x-python",
   "name": "python",
   "nbconvert_exporter": "python",
   "pygments_lexer": "ipython3",
   "version": "3.7.1"
  }
 },
 "nbformat": 4,
 "nbformat_minor": 2
}
