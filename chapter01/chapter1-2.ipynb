{
 "cells": [
  {
   "cell_type": "markdown",
   "metadata": {},
   "source": [
    "## 1.2 数据库中的数据\n",
    "\n",
    "**基础知识**"
   ]
  },
  {
   "cell_type": "code",
   "execution_count": 1,
   "metadata": {},
   "outputs": [
    {
     "name": "stdout",
     "output_type": "stream",
     "text": [
      "(1, 'Learn Python', 'phei')\n",
      "(2, 'Django', 'phei')\n",
      "(3, 'Data Analysis', 'phei')\n",
      "(4, 'Machine Learning', 'PHEI')\n",
      "(5, '数据可视化案例', 'gitchat')\n",
      "(6, '零基础入手Python', 'gitchat')\n"
     ]
    }
   ],
   "source": [
    "import pymysql\n",
    "mydb = pymysql.connect(host=\"localhost\",    # ①\n",
    "                       user='root',\n",
    "                       password='1q2w3e4r5t',\n",
    "                       db=\"books\",\n",
    "                      )\n",
    "cursor = mydb.cursor()    # ②\n",
    "sql = \"select * from mybooks\"    # ③\n",
    "cursor.execute(sql)    # ④\n",
    "datas = cursor.fetchall()    # ⑤\n",
    "for data in datas:\n",
    "    print(data)"
   ]
  },
  {
   "cell_type": "markdown",
   "metadata": {},
   "source": [
    "**项目案例**"
   ]
  },
  {
   "cell_type": "code",
   "execution_count": 2,
   "metadata": {},
   "outputs": [],
   "source": [
    "import pandas as pd\n",
    "import pymysql\n",
    "mydb = pymysql.connect(host=\"localhost\",\n",
    "                       user='root',\n",
    "                       password='1q2w3e4r5t',\n",
    "                       db=\"books\",\n",
    "                      )\n",
    "cursor = mydb.cursor()\n",
    "\n",
    "path = \"/Users/qiwsir/Documents/Codes/DataSet\"\n",
    "df = pd.read_csv(path + \"/jiangsu/cities.csv\") \n",
    "sql = 'insert into city (name, area, population, longd, latd) \\\n",
    "values (\"%s\",\"%s\", \"%s\", \"%s\", \"%s\")'\n",
    "for idx in df.index:\n",
    "    row = df.iloc[idx]\n",
    "    cursor.execute(sql % (row['name'], row['area'], row['population'], row['longd'], row['latd']))\n",
    "mydb.commit()\n"
   ]
  },
  {
   "cell_type": "code",
   "execution_count": 4,
   "metadata": {},
   "outputs": [
    {
     "data": {
      "text/plain": [
       "(26,)"
      ]
     },
     "execution_count": 4,
     "metadata": {},
     "output_type": "execute_result"
    }
   ],
   "source": [
    "sql_count = \"SELECT COUNT(1) FROM city\"\n",
    "cursor.execute(sql_count)\n",
    "n = cursor.fetchone()    # 获得一个返回值\n",
    "n"
   ]
  },
  {
   "cell_type": "code",
   "execution_count": 5,
   "metadata": {},
   "outputs": [
    {
     "data": {
      "text/plain": [
       "(('Nanjing', 6582.31),\n",
       " ('Wuxi', 4787.61),\n",
       " ('Xuzhou', 11764.9),\n",
       " ('Changzhou', 4384.57),\n",
       " ('Soochow', 8488.42),\n",
       " ('Nantong', 8001.0),\n",
       " ('Lianyungang', 7615.29),\n",
       " ('Huaian', 9949.97),\n",
       " ('Yancheng', 16972.4),\n",
       " ('Yangzhou', 6591.21),\n",
       " ('Zhenjiang', 3840.32),\n",
       " ('Taizhou', 5787.26),\n",
       " ('Suqian', 8555.0),\n",
       " ('Nanjing', 6582.31),\n",
       " ('Wuxi', 4787.61),\n",
       " ('Xuzhou', 11764.9),\n",
       " ('Changzhou', 4384.57),\n",
       " ('Soochow', 8488.42),\n",
       " ('Nantong', 8001.0),\n",
       " ('Lianyungang', 7615.29),\n",
       " ('Huaian', 9949.97),\n",
       " ('Yancheng', 16972.4),\n",
       " ('Yangzhou', 6591.21),\n",
       " ('Zhenjiang', 3840.32),\n",
       " ('Taizhou', 5787.26),\n",
       " ('Suqian', 8555.0))"
      ]
     },
     "execution_count": 5,
     "metadata": {},
     "output_type": "execute_result"
    }
   ],
   "source": [
    "sql_columns = 'SELECT name, area FROM city'\n",
    "cursor.execute(sql_columns)\n",
    "cursor.fetchall()"
   ]
  },
  {
   "cell_type": "code",
   "execution_count": 6,
   "metadata": {},
   "outputs": [
    {
     "data": {
      "text/plain": [
       "((9, 'Yancheng', 16972.4, 7260240, 120.13, 33.38),\n",
       " (22, 'Yancheng', 16972.4, 7260240, 120.13, 33.38),\n",
       " (3, 'Xuzhou', 11764.9, 8580500, 117.2, 34.26),\n",
       " (16, 'Xuzhou', 11764.9, 8580500, 117.2, 34.26),\n",
       " (8, 'Huaian', 9949.97, 4799889, 119.15, 33.5),\n",
       " (21, 'Huaian', 9949.97, 4799889, 119.15, 33.5),\n",
       " (13, 'Suqian', 8555.0, 4715553, 118.3, 33.96),\n",
       " (26, 'Suqian', 8555.0, 4715553, 118.3, 33.96),\n",
       " (5, 'Soochow', 8488.42, 10465994, 120.62, 31.32),\n",
       " (18, 'Soochow', 8488.42, 10465994, 120.62, 31.32),\n",
       " (6, 'Nantong', 8001.0, 7282835, 120.86, 32.01),\n",
       " (19, 'Nantong', 8001.0, 7282835, 120.86, 32.01),\n",
       " (7, 'Lianyungang', 7615.29, 4393914, 119.16, 34.59),\n",
       " (20, 'Lianyungang', 7615.29, 4393914, 119.16, 34.59),\n",
       " (10, 'Yangzhou', 6591.21, 4459760, 119.42, 32.39),\n",
       " (23, 'Yangzhou', 6591.21, 4459760, 119.42, 32.39),\n",
       " (1, 'Nanjing', 6582.31, 8004680, 118.78, 32.04),\n",
       " (14, 'Nanjing', 6582.31, 8004680, 118.78, 32.04),\n",
       " (12, 'Taizhou', 5787.26, 4618558, 119.9, 32.49),\n",
       " (25, 'Taizhou', 5787.26, 4618558, 119.9, 32.49),\n",
       " (2, 'Wuxi', 4787.61, 6372624, 120.29, 31.59),\n",
       " (15, 'Wuxi', 4787.61, 6372624, 120.29, 31.59),\n",
       " (4, 'Changzhou', 4384.57, 4591972, 119.95, 31.79),\n",
       " (17, 'Changzhou', 4384.57, 4591972, 119.95, 31.79),\n",
       " (11, 'Zhenjiang', 3840.32, 3113384, 119.44, 32.2),\n",
       " (24, 'Zhenjiang', 3840.32, 3113384, 119.44, 32.2))"
      ]
     },
     "execution_count": 6,
     "metadata": {},
     "output_type": "execute_result"
    }
   ],
   "source": [
    "#以area字段值从大到小查询全部记录；\n",
    "sql_sort = \"SELECT * FROM city ORDER BY area DESC\"\n",
    "cursor.execute(sql_sort)\n",
    "cursor.fetchall()"
   ]
  },
  {
   "cell_type": "markdown",
   "metadata": {},
   "source": [
    "**动手练习**"
   ]
  },
  {
   "cell_type": "code",
   "execution_count": 7,
   "metadata": {},
   "outputs": [],
   "source": [
    "import pymysql\n",
    "mydb = pymysql.connect(host=\"localhost\",\n",
    "                       user='root',\n",
    "                       password='1q2w3e4r5t',\n",
    "                       db=\"books\",\n",
    "                      )\n",
    "cursor = mydb.cursor()"
   ]
  },
  {
   "cell_type": "code",
   "execution_count": 8,
   "metadata": {},
   "outputs": [
    {
     "data": {
      "text/plain": [
       "((1, 'Nanjing', 6582.31, 8004680, 118.78, 32.04),\n",
       " (2, 'Wuxi', 4787.61, 6372624, 120.29, 31.59),\n",
       " (3, 'Xuzhou', 11764.9, 8580500, 117.2, 34.26),\n",
       " (4, 'Changzhou', 4384.57, 4591972, 119.95, 31.79),\n",
       " (5, 'Soochow', 8488.42, 10465994, 120.62, 31.32),\n",
       " (6, 'Nantong', 8001.0, 7282835, 120.86, 32.01),\n",
       " (7, 'Lianyungang', 7615.29, 4393914, 119.16, 34.59),\n",
       " (8, 'Huaian', 9949.97, 4799889, 119.15, 33.5),\n",
       " (9, 'Yancheng', 16972.4, 7260240, 120.13, 33.38),\n",
       " (10, 'Yangzhou', 6591.21, 4459760, 119.42, 32.39),\n",
       " (11, 'Zhenjiang', 3840.32, 3113384, 119.44, 32.2),\n",
       " (12, 'Taizhou', 5787.26, 4618558, 119.9, 32.49),\n",
       " (13, 'Suqian', 8555.0, 4715553, 118.3, 33.96),\n",
       " (14, 'Nanjing', 6582.31, 8004680, 118.78, 32.04),\n",
       " (15, 'Wuxi', 4787.61, 6372624, 120.29, 31.59),\n",
       " (16, 'Xuzhou', 11764.9, 8580500, 117.2, 34.26),\n",
       " (17, 'Changzhou', 4384.57, 4591972, 119.95, 31.79),\n",
       " (18, 'Soochow', 8488.42, 10465994, 120.62, 31.32),\n",
       " (19, 'Nantong', 8001.0, 7282835, 120.86, 32.01),\n",
       " (20, 'Lianyungang', 7615.29, 4393914, 119.16, 34.59),\n",
       " (21, 'Huaian', 9949.97, 4799889, 119.15, 33.5),\n",
       " (22, 'Yancheng', 16972.4, 7260240, 120.13, 33.38),\n",
       " (23, 'Yangzhou', 6591.21, 4459760, 119.42, 32.39),\n",
       " (24, 'Zhenjiang', 3840.32, 3113384, 119.44, 32.2),\n",
       " (25, 'Taizhou', 5787.26, 4618558, 119.9, 32.49),\n",
       " (26, 'Suqian', 8555.0, 4715553, 118.3, 33.96))"
      ]
     },
     "execution_count": 8,
     "metadata": {},
     "output_type": "execute_result"
    }
   ],
   "source": [
    "# 第1题\n",
    "cursor.execute(\"SELECT * FROM city\")\n",
    "cursor.fetchall()"
   ]
  },
  {
   "cell_type": "code",
   "execution_count": 9,
   "metadata": {},
   "outputs": [
    {
     "data": {
      "text/plain": [
       "(('Nanjing', 8004680),\n",
       " ('Wuxi', 6372624),\n",
       " ('Xuzhou', 8580500),\n",
       " ('Changzhou', 4591972),\n",
       " ('Soochow', 10465994),\n",
       " ('Nantong', 7282835),\n",
       " ('Lianyungang', 4393914),\n",
       " ('Huaian', 4799889),\n",
       " ('Yancheng', 7260240),\n",
       " ('Yangzhou', 4459760),\n",
       " ('Zhenjiang', 3113384),\n",
       " ('Taizhou', 4618558),\n",
       " ('Suqian', 4715553),\n",
       " ('Nanjing', 8004680),\n",
       " ('Wuxi', 6372624),\n",
       " ('Xuzhou', 8580500),\n",
       " ('Changzhou', 4591972),\n",
       " ('Soochow', 10465994),\n",
       " ('Nantong', 7282835),\n",
       " ('Lianyungang', 4393914),\n",
       " ('Huaian', 4799889),\n",
       " ('Yancheng', 7260240),\n",
       " ('Yangzhou', 4459760),\n",
       " ('Zhenjiang', 3113384),\n",
       " ('Taizhou', 4618558),\n",
       " ('Suqian', 4715553))"
      ]
     },
     "execution_count": 9,
     "metadata": {},
     "output_type": "execute_result"
    }
   ],
   "source": [
    "# 第2题\n",
    "cursor.execute(\"SELECT name, population FROM city\")\n",
    "cursor.fetchall()"
   ]
  },
  {
   "cell_type": "code",
   "execution_count": 10,
   "metadata": {},
   "outputs": [
    {
     "data": {
      "text/plain": [
       "((22, 'Yancheng', 16972.4, 7260240, 120.13, 33.38),\n",
       " (9, 'Yancheng', 16972.4, 7260240, 120.13, 33.38),\n",
       " (3, 'Xuzhou', 11764.9, 8580500, 117.2, 34.26))"
      ]
     },
     "execution_count": 10,
     "metadata": {},
     "output_type": "execute_result"
    }
   ],
   "source": [
    "# 第3题\n",
    "cursor.execute(\"SELECT * FROM city ORDER BY area DESC LIMIT 3\")\n",
    "cursor.fetchall()"
   ]
  },
  {
   "cell_type": "code",
   "execution_count": 11,
   "metadata": {},
   "outputs": [
    {
     "data": {
      "text/plain": [
       "((5, 'Soochow', 8488.42, 10465994, 120.62, 31.32),\n",
       " (18, 'Soochow', 8488.42, 10465994, 120.62, 31.32))"
      ]
     },
     "execution_count": 11,
     "metadata": {},
     "output_type": "execute_result"
    }
   ],
   "source": [
    "# 第4题\n",
    "cursor.execute(\"SELECT * FROM city WHERE name='Soochow'\")\n",
    "cursor.fetchall()"
   ]
  },
  {
   "cell_type": "code",
   "execution_count": 12,
   "metadata": {},
   "outputs": [
    {
     "data": {
      "text/plain": [
       "((1, 'Nanjing', 6582.31, 8004680, 118.78, 32.04),\n",
       " (3, 'Xuzhou', 11764.9, 8580500, 117.2, 34.26),\n",
       " (5, 'Soochow', 8488.42, 10465994, 120.62, 31.32),\n",
       " (14, 'Nanjing', 6582.31, 8004680, 118.78, 32.04),\n",
       " (16, 'Xuzhou', 11764.9, 8580500, 117.2, 34.26),\n",
       " (18, 'Soochow', 8488.42, 10465994, 120.62, 31.32))"
      ]
     },
     "execution_count": 12,
     "metadata": {},
     "output_type": "execute_result"
    }
   ],
   "source": [
    "# 第5题\n",
    "cursor.execute(\"SELECT * FROM city WHERE population BETWEEN 8000000 AND 15000000\")\n",
    "cursor.fetchall()"
   ]
  },
  {
   "cell_type": "code",
   "execution_count": 13,
   "metadata": {},
   "outputs": [
    {
     "data": {
      "text/plain": [
       "((5, 'Soochow', 8488.42, 10465994, 120.62, 31.32),\n",
       " (13, 'Suqian', 8555.0, 4715553, 118.3, 33.96),\n",
       " (18, 'Soochow', 8488.42, 10465994, 120.62, 31.32),\n",
       " (26, 'Suqian', 8555.0, 4715553, 118.3, 33.96))"
      ]
     },
     "execution_count": 13,
     "metadata": {},
     "output_type": "execute_result"
    }
   ],
   "source": [
    "# 第6题目\n",
    "cursor.execute(\"SELECT * FROM city WHERE name LIKE '%S%'\")    # 包含S字符\n",
    "cursor.fetchall()"
   ]
  },
  {
   "cell_type": "code",
   "execution_count": 14,
   "metadata": {},
   "outputs": [
    {
     "data": {
      "text/plain": [
       "((1, 'Nanjing', 6582.31, 8004680, 118.78, 32.04),\n",
       " (6, 'Nantong', 8001.0, 7282835, 120.86, 32.01),\n",
       " (14, 'Nanjing', 6582.31, 8004680, 118.78, 32.04),\n",
       " (19, 'Nantong', 8001.0, 7282835, 120.86, 32.01))"
      ]
     },
     "execution_count": 14,
     "metadata": {},
     "output_type": "execute_result"
    }
   ],
   "source": [
    "cursor.execute(\"SELECT * FROM city WHERE name LIKE 'n%'\")    #以n开头的\n",
    "cursor.fetchall()"
   ]
  },
  {
   "cell_type": "code",
   "execution_count": 15,
   "metadata": {},
   "outputs": [
    {
     "data": {
      "text/plain": [
       "((1, 'Nanjing', 6582.31, 8004680, 118.78, 32.04),\n",
       " (2, 'Wuxi', 4787.61, 6372624, 120.29, 31.59),\n",
       " (5, 'Soochow', 8488.42, 10465994, 120.62, 31.32),\n",
       " (6, 'Nantong', 8001.0, 7282835, 120.86, 32.01),\n",
       " (14, 'Nanjing', 6582.31, 8004680, 118.78, 32.04),\n",
       " (15, 'Wuxi', 4787.61, 6372624, 120.29, 31.59),\n",
       " (18, 'Soochow', 8488.42, 10465994, 120.62, 31.32),\n",
       " (19, 'Nantong', 8001.0, 7282835, 120.86, 32.01))"
      ]
     },
     "execution_count": 15,
     "metadata": {},
     "output_type": "execute_result"
    }
   ],
   "source": [
    "# 第7题\n",
    "# and\n",
    "cursor.execute(\"SELECT * FROM city WHERE population>5000000 AND area<9000\")\n",
    "cursor.fetchall()"
   ]
  },
  {
   "cell_type": "code",
   "execution_count": 16,
   "metadata": {},
   "outputs": [
    {
     "data": {
      "text/plain": [
       "((1, 'Nanjing', 6582.31, 8004680, 118.78, 32.04),\n",
       " (3, 'Xuzhou', 11764.9, 8580500, 117.2, 34.26),\n",
       " (5, 'Soochow', 8488.42, 10465994, 120.62, 31.32),\n",
       " (8, 'Huaian', 9949.97, 4799889, 119.15, 33.5),\n",
       " (9, 'Yancheng', 16972.4, 7260240, 120.13, 33.38),\n",
       " (14, 'Nanjing', 6582.31, 8004680, 118.78, 32.04),\n",
       " (16, 'Xuzhou', 11764.9, 8580500, 117.2, 34.26),\n",
       " (18, 'Soochow', 8488.42, 10465994, 120.62, 31.32),\n",
       " (21, 'Huaian', 9949.97, 4799889, 119.15, 33.5),\n",
       " (22, 'Yancheng', 16972.4, 7260240, 120.13, 33.38))"
      ]
     },
     "execution_count": 16,
     "metadata": {},
     "output_type": "execute_result"
    }
   ],
   "source": [
    "# or\n",
    "cursor.execute(\"SELECT * FROM city WHERE population>8000000 OR area>9000\")\n",
    "cursor.fetchall()"
   ]
  },
  {
   "cell_type": "markdown",
   "metadata": {},
   "source": [
    "**扩展研究**"
   ]
  },
  {
   "cell_type": "code",
   "execution_count": 17,
   "metadata": {},
   "outputs": [
    {
     "data": {
      "text/html": [
       "<div>\n",
       "<style scoped>\n",
       "    .dataframe tbody tr th:only-of-type {\n",
       "        vertical-align: middle;\n",
       "    }\n",
       "\n",
       "    .dataframe tbody tr th {\n",
       "        vertical-align: top;\n",
       "    }\n",
       "\n",
       "    .dataframe thead th {\n",
       "        text-align: right;\n",
       "    }\n",
       "</style>\n",
       "<table border=\"1\" class=\"dataframe\">\n",
       "  <thead>\n",
       "    <tr style=\"text-align: right;\">\n",
       "      <th></th>\n",
       "      <th>name</th>\n",
       "      <th>area</th>\n",
       "      <th>population</th>\n",
       "      <th>longd</th>\n",
       "      <th>latd</th>\n",
       "    </tr>\n",
       "    <tr>\n",
       "      <th>id</th>\n",
       "      <th></th>\n",
       "      <th></th>\n",
       "      <th></th>\n",
       "      <th></th>\n",
       "      <th></th>\n",
       "    </tr>\n",
       "  </thead>\n",
       "  <tbody>\n",
       "    <tr>\n",
       "      <th>1</th>\n",
       "      <td>Nanjing</td>\n",
       "      <td>6582.31</td>\n",
       "      <td>8004680</td>\n",
       "      <td>118.78</td>\n",
       "      <td>32.04</td>\n",
       "    </tr>\n",
       "    <tr>\n",
       "      <th>2</th>\n",
       "      <td>Wuxi</td>\n",
       "      <td>4787.61</td>\n",
       "      <td>6372624</td>\n",
       "      <td>120.29</td>\n",
       "      <td>31.59</td>\n",
       "    </tr>\n",
       "    <tr>\n",
       "      <th>3</th>\n",
       "      <td>Xuzhou</td>\n",
       "      <td>11764.90</td>\n",
       "      <td>8580500</td>\n",
       "      <td>117.20</td>\n",
       "      <td>34.26</td>\n",
       "    </tr>\n",
       "    <tr>\n",
       "      <th>4</th>\n",
       "      <td>Changzhou</td>\n",
       "      <td>4384.57</td>\n",
       "      <td>4591972</td>\n",
       "      <td>119.95</td>\n",
       "      <td>31.79</td>\n",
       "    </tr>\n",
       "    <tr>\n",
       "      <th>5</th>\n",
       "      <td>Soochow</td>\n",
       "      <td>8488.42</td>\n",
       "      <td>10465994</td>\n",
       "      <td>120.62</td>\n",
       "      <td>31.32</td>\n",
       "    </tr>\n",
       "    <tr>\n",
       "      <th>6</th>\n",
       "      <td>Nantong</td>\n",
       "      <td>8001.00</td>\n",
       "      <td>7282835</td>\n",
       "      <td>120.86</td>\n",
       "      <td>32.01</td>\n",
       "    </tr>\n",
       "    <tr>\n",
       "      <th>7</th>\n",
       "      <td>Lianyungang</td>\n",
       "      <td>7615.29</td>\n",
       "      <td>4393914</td>\n",
       "      <td>119.16</td>\n",
       "      <td>34.59</td>\n",
       "    </tr>\n",
       "    <tr>\n",
       "      <th>8</th>\n",
       "      <td>Huaian</td>\n",
       "      <td>9949.97</td>\n",
       "      <td>4799889</td>\n",
       "      <td>119.15</td>\n",
       "      <td>33.50</td>\n",
       "    </tr>\n",
       "    <tr>\n",
       "      <th>9</th>\n",
       "      <td>Yancheng</td>\n",
       "      <td>16972.40</td>\n",
       "      <td>7260240</td>\n",
       "      <td>120.13</td>\n",
       "      <td>33.38</td>\n",
       "    </tr>\n",
       "    <tr>\n",
       "      <th>10</th>\n",
       "      <td>Yangzhou</td>\n",
       "      <td>6591.21</td>\n",
       "      <td>4459760</td>\n",
       "      <td>119.42</td>\n",
       "      <td>32.39</td>\n",
       "    </tr>\n",
       "    <tr>\n",
       "      <th>11</th>\n",
       "      <td>Zhenjiang</td>\n",
       "      <td>3840.32</td>\n",
       "      <td>3113384</td>\n",
       "      <td>119.44</td>\n",
       "      <td>32.20</td>\n",
       "    </tr>\n",
       "    <tr>\n",
       "      <th>12</th>\n",
       "      <td>Taizhou</td>\n",
       "      <td>5787.26</td>\n",
       "      <td>4618558</td>\n",
       "      <td>119.90</td>\n",
       "      <td>32.49</td>\n",
       "    </tr>\n",
       "    <tr>\n",
       "      <th>13</th>\n",
       "      <td>Suqian</td>\n",
       "      <td>8555.00</td>\n",
       "      <td>4715553</td>\n",
       "      <td>118.30</td>\n",
       "      <td>33.96</td>\n",
       "    </tr>\n",
       "    <tr>\n",
       "      <th>14</th>\n",
       "      <td>Nanjing</td>\n",
       "      <td>6582.31</td>\n",
       "      <td>8004680</td>\n",
       "      <td>118.78</td>\n",
       "      <td>32.04</td>\n",
       "    </tr>\n",
       "    <tr>\n",
       "      <th>15</th>\n",
       "      <td>Wuxi</td>\n",
       "      <td>4787.61</td>\n",
       "      <td>6372624</td>\n",
       "      <td>120.29</td>\n",
       "      <td>31.59</td>\n",
       "    </tr>\n",
       "    <tr>\n",
       "      <th>16</th>\n",
       "      <td>Xuzhou</td>\n",
       "      <td>11764.90</td>\n",
       "      <td>8580500</td>\n",
       "      <td>117.20</td>\n",
       "      <td>34.26</td>\n",
       "    </tr>\n",
       "    <tr>\n",
       "      <th>17</th>\n",
       "      <td>Changzhou</td>\n",
       "      <td>4384.57</td>\n",
       "      <td>4591972</td>\n",
       "      <td>119.95</td>\n",
       "      <td>31.79</td>\n",
       "    </tr>\n",
       "    <tr>\n",
       "      <th>18</th>\n",
       "      <td>Soochow</td>\n",
       "      <td>8488.42</td>\n",
       "      <td>10465994</td>\n",
       "      <td>120.62</td>\n",
       "      <td>31.32</td>\n",
       "    </tr>\n",
       "    <tr>\n",
       "      <th>19</th>\n",
       "      <td>Nantong</td>\n",
       "      <td>8001.00</td>\n",
       "      <td>7282835</td>\n",
       "      <td>120.86</td>\n",
       "      <td>32.01</td>\n",
       "    </tr>\n",
       "    <tr>\n",
       "      <th>20</th>\n",
       "      <td>Lianyungang</td>\n",
       "      <td>7615.29</td>\n",
       "      <td>4393914</td>\n",
       "      <td>119.16</td>\n",
       "      <td>34.59</td>\n",
       "    </tr>\n",
       "    <tr>\n",
       "      <th>21</th>\n",
       "      <td>Huaian</td>\n",
       "      <td>9949.97</td>\n",
       "      <td>4799889</td>\n",
       "      <td>119.15</td>\n",
       "      <td>33.50</td>\n",
       "    </tr>\n",
       "    <tr>\n",
       "      <th>22</th>\n",
       "      <td>Yancheng</td>\n",
       "      <td>16972.40</td>\n",
       "      <td>7260240</td>\n",
       "      <td>120.13</td>\n",
       "      <td>33.38</td>\n",
       "    </tr>\n",
       "    <tr>\n",
       "      <th>23</th>\n",
       "      <td>Yangzhou</td>\n",
       "      <td>6591.21</td>\n",
       "      <td>4459760</td>\n",
       "      <td>119.42</td>\n",
       "      <td>32.39</td>\n",
       "    </tr>\n",
       "    <tr>\n",
       "      <th>24</th>\n",
       "      <td>Zhenjiang</td>\n",
       "      <td>3840.32</td>\n",
       "      <td>3113384</td>\n",
       "      <td>119.44</td>\n",
       "      <td>32.20</td>\n",
       "    </tr>\n",
       "    <tr>\n",
       "      <th>25</th>\n",
       "      <td>Taizhou</td>\n",
       "      <td>5787.26</td>\n",
       "      <td>4618558</td>\n",
       "      <td>119.90</td>\n",
       "      <td>32.49</td>\n",
       "    </tr>\n",
       "    <tr>\n",
       "      <th>26</th>\n",
       "      <td>Suqian</td>\n",
       "      <td>8555.00</td>\n",
       "      <td>4715553</td>\n",
       "      <td>118.30</td>\n",
       "      <td>33.96</td>\n",
       "    </tr>\n",
       "  </tbody>\n",
       "</table>\n",
       "</div>"
      ],
      "text/plain": [
       "           name      area  population   longd   latd\n",
       "id                                                  \n",
       "1       Nanjing   6582.31     8004680  118.78  32.04\n",
       "2          Wuxi   4787.61     6372624  120.29  31.59\n",
       "3        Xuzhou  11764.90     8580500  117.20  34.26\n",
       "4     Changzhou   4384.57     4591972  119.95  31.79\n",
       "5       Soochow   8488.42    10465994  120.62  31.32\n",
       "6       Nantong   8001.00     7282835  120.86  32.01\n",
       "7   Lianyungang   7615.29     4393914  119.16  34.59\n",
       "8        Huaian   9949.97     4799889  119.15  33.50\n",
       "9      Yancheng  16972.40     7260240  120.13  33.38\n",
       "10     Yangzhou   6591.21     4459760  119.42  32.39\n",
       "11    Zhenjiang   3840.32     3113384  119.44  32.20\n",
       "12      Taizhou   5787.26     4618558  119.90  32.49\n",
       "13       Suqian   8555.00     4715553  118.30  33.96\n",
       "14      Nanjing   6582.31     8004680  118.78  32.04\n",
       "15         Wuxi   4787.61     6372624  120.29  31.59\n",
       "16       Xuzhou  11764.90     8580500  117.20  34.26\n",
       "17    Changzhou   4384.57     4591972  119.95  31.79\n",
       "18      Soochow   8488.42    10465994  120.62  31.32\n",
       "19      Nantong   8001.00     7282835  120.86  32.01\n",
       "20  Lianyungang   7615.29     4393914  119.16  34.59\n",
       "21       Huaian   9949.97     4799889  119.15  33.50\n",
       "22     Yancheng  16972.40     7260240  120.13  33.38\n",
       "23     Yangzhou   6591.21     4459760  119.42  32.39\n",
       "24    Zhenjiang   3840.32     3113384  119.44  32.20\n",
       "25      Taizhou   5787.26     4618558  119.90  32.49\n",
       "26       Suqian   8555.00     4715553  118.30  33.96"
      ]
     },
     "execution_count": 17,
     "metadata": {},
     "output_type": "execute_result"
    }
   ],
   "source": [
    "import pandas as pd\n",
    "import pymysql\n",
    "mydb = pymysql.connect(host=\"localhost\",\n",
    "                       user='root',\n",
    "                       password='1q2w3e4r5t',\n",
    "                       db=\"books\",)\n",
    "cities = pd.read_sql_query(\"Select * FROM city\", con=mydb, index_col='id')\n",
    "cities"
   ]
  },
  {
   "cell_type": "code",
   "execution_count": null,
   "metadata": {},
   "outputs": [],
   "source": []
  }
 ],
 "metadata": {
  "kernelspec": {
   "display_name": "Python 3",
   "language": "python",
   "name": "python3"
  },
  "language_info": {
   "codemirror_mode": {
    "name": "ipython",
    "version": 3
   },
   "file_extension": ".py",
   "mimetype": "text/x-python",
   "name": "python",
   "nbconvert_exporter": "python",
   "pygments_lexer": "ipython3",
   "version": "3.7.1"
  }
 },
 "nbformat": 4,
 "nbformat_minor": 2
}
