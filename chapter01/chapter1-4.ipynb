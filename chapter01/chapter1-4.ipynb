{
 "cells": [
  {
   "cell_type": "markdown",
   "metadata": {},
   "source": [
    "## 1.4 来自API的数据\n",
    "\n",
    "**基础知识**"
   ]
  },
  {
   "cell_type": "code",
   "execution_count": 1,
   "metadata": {},
   "outputs": [
    {
     "data": {
      "text/plain": [
       "<Response [200]>"
      ]
     },
     "execution_count": 1,
     "metadata": {},
     "output_type": "execute_result"
    }
   ],
   "source": [
    "import requests\n",
    "response = requests.get(\"https://api.github.com/users/qiwsir\")    # ①\n",
    "response"
   ]
  },
  {
   "cell_type": "code",
   "execution_count": 2,
   "metadata": {},
   "outputs": [
    {
     "data": {
      "text/plain": [
       "{'login': 'qiwsir',\n",
       " 'id': 3646955,\n",
       " 'node_id': 'MDQ6VXNlcjM2NDY5NTU=',\n",
       " 'avatar_url': 'https://avatars2.githubusercontent.com/u/3646955?v=4',\n",
       " 'gravatar_id': '',\n",
       " 'url': 'https://api.github.com/users/qiwsir',\n",
       " 'html_url': 'https://github.com/qiwsir',\n",
       " 'followers_url': 'https://api.github.com/users/qiwsir/followers',\n",
       " 'following_url': 'https://api.github.com/users/qiwsir/following{/other_user}',\n",
       " 'gists_url': 'https://api.github.com/users/qiwsir/gists{/gist_id}',\n",
       " 'starred_url': 'https://api.github.com/users/qiwsir/starred{/owner}{/repo}',\n",
       " 'subscriptions_url': 'https://api.github.com/users/qiwsir/subscriptions',\n",
       " 'organizations_url': 'https://api.github.com/users/qiwsir/orgs',\n",
       " 'repos_url': 'https://api.github.com/users/qiwsir/repos',\n",
       " 'events_url': 'https://api.github.com/users/qiwsir/events{/privacy}',\n",
       " 'received_events_url': 'https://api.github.com/users/qiwsir/received_events',\n",
       " 'type': 'User',\n",
       " 'site_admin': False,\n",
       " 'name': '老齐',\n",
       " 'company': '易水禾软件',\n",
       " 'blog': 'http://www.itdiffer.com',\n",
       " 'location': 'Suzhou China',\n",
       " 'email': None,\n",
       " 'hireable': True,\n",
       " 'bio': None,\n",
       " 'public_repos': 270,\n",
       " 'public_gists': 0,\n",
       " 'followers': 4540,\n",
       " 'following': 25,\n",
       " 'created_at': '2013-02-20T11:44:27Z',\n",
       " 'updated_at': '2018-12-14T02:07:57Z'}"
      ]
     },
     "execution_count": 2,
     "metadata": {},
     "output_type": "execute_result"
    }
   ],
   "source": [
    "response.json()"
   ]
  },
  {
   "cell_type": "code",
   "execution_count": 3,
   "metadata": {},
   "outputs": [
    {
     "data": {
      "text/html": [
       "<div>\n",
       "<style scoped>\n",
       "    .dataframe tbody tr th:only-of-type {\n",
       "        vertical-align: middle;\n",
       "    }\n",
       "\n",
       "    .dataframe tbody tr th {\n",
       "        vertical-align: top;\n",
       "    }\n",
       "\n",
       "    .dataframe thead th {\n",
       "        text-align: right;\n",
       "    }\n",
       "</style>\n",
       "<table border=\"1\" class=\"dataframe\">\n",
       "  <thead>\n",
       "    <tr style=\"text-align: right;\">\n",
       "      <th></th>\n",
       "      <th>login</th>\n",
       "      <th>name</th>\n",
       "      <th>blog</th>\n",
       "      <th>public_repos</th>\n",
       "      <th>followers</th>\n",
       "      <th>html_url</th>\n",
       "    </tr>\n",
       "  </thead>\n",
       "  <tbody>\n",
       "    <tr>\n",
       "      <th>0</th>\n",
       "      <td>qiwsir</td>\n",
       "      <td>老齐</td>\n",
       "      <td>http://www.itdiffer.com</td>\n",
       "      <td>270</td>\n",
       "      <td>4540</td>\n",
       "      <td>https://github.com/qiwsir</td>\n",
       "    </tr>\n",
       "  </tbody>\n",
       "</table>\n",
       "</div>"
      ],
      "text/plain": [
       "    login name                     blog  public_repos  followers  \\\n",
       "0  qiwsir   老齐  http://www.itdiffer.com           270       4540   \n",
       "\n",
       "                    html_url  \n",
       "0  https://github.com/qiwsir  "
      ]
     },
     "execution_count": 3,
     "metadata": {},
     "output_type": "execute_result"
    }
   ],
   "source": [
    "import pandas as pd\n",
    "data = response.json()    # ②\n",
    "login = data['login']     # ③\n",
    "name = data['name']\n",
    "blog = data['blog']\n",
    "public_repos = data['public_repos']\n",
    "followers = data['followers']\n",
    "html_url = data['html_url']\n",
    "df = pd.DataFrame([[login, name, blog, public_repos, followers, html_url]], \n",
    "                  columns=['login', 'name', 'blog', 'public_repos', 'followers', 'html_url'])    # ④\n",
    "df"
   ]
  },
  {
   "cell_type": "markdown",
   "metadata": {},
   "source": [
    "**项目案例**"
   ]
  },
  {
   "cell_type": "code",
   "execution_count": 4,
   "metadata": {},
   "outputs": [],
   "source": [
    "url = \"https://news.baidu.com/widget?id=LocalNews&ajax=json\"\n",
    "r = requests.get(url)\n",
    "local_news = r.json()"
   ]
  },
  {
   "cell_type": "code",
   "execution_count": 7,
   "metadata": {},
   "outputs": [],
   "source": [
    "news = local_news['data']['LocalNews']['data']['rows']['first']    # ⑤\n",
    "news_df = pd.DataFrame(columns=['title', 'url', 'time'])\n",
    "for one in news:  \n",
    "    news_df = news_df.append({'title': one['title'], \"time\": one['time'], 'url': one['url']}, ignore_index=True)\n",
    "news_df.to_csv(\"./news.csv\")"
   ]
  },
  {
   "cell_type": "markdown",
   "metadata": {},
   "source": [
    "**动手练习**"
   ]
  },
  {
   "cell_type": "code",
   "execution_count": 4,
   "metadata": {},
   "outputs": [
    {
     "data": {
      "text/plain": [
       "{'status': 200,\n",
       " 'message': 'success',\n",
       " 'data': {'year': 2019,\n",
       "  'month': 7,\n",
       "  'day': 28,\n",
       "  'lunarYear': 2019,\n",
       "  'lunarMonth': 6,\n",
       "  'lunarDay': 26,\n",
       "  'cnyear': '贰零壹玖 ',\n",
       "  'cnmonth': '六',\n",
       "  'cnday': '廿六',\n",
       "  'hyear': '己亥',\n",
       "  'cyclicalYear': '己亥',\n",
       "  'cyclicalMonth': '辛未',\n",
       "  'cyclicalDay': '丙寅',\n",
       "  'suit': '嫁娶,纳采,开市,出行,动土,上梁,移徙,入宅,破土,安葬',\n",
       "  'taboo': '祭祀,祈福',\n",
       "  'animal': '猪',\n",
       "  'week': 'Sunday',\n",
       "  'festivalList': [],\n",
       "  'jieqi': {'8': '小暑', '23': '大暑'},\n",
       "  'maxDayInMonth': 29,\n",
       "  'leap': False,\n",
       "  'lunarYearString': '己亥',\n",
       "  'bigMonth': False}}"
      ]
     },
     "execution_count": 4,
     "metadata": {},
     "output_type": "execute_result"
    }
   ],
   "source": [
    "# 1\n",
    "import requests\n",
    "headers = {'user-agent': 'my-app/0.0.1'}\n",
    "r = requests.get(\"https://www.sojson.com/open/api/lunar/json.shtml?date=2019-07-28\", headers=headers)\n",
    "r.json()"
   ]
  },
  {
   "cell_type": "code",
   "execution_count": null,
   "metadata": {},
   "outputs": [],
   "source": []
  }
 ],
 "metadata": {
  "kernelspec": {
   "display_name": "Python 3",
   "language": "python",
   "name": "python3"
  },
  "language_info": {
   "codemirror_mode": {
    "name": "ipython",
    "version": 3
   },
   "file_extension": ".py",
   "mimetype": "text/x-python",
   "name": "python",
   "nbconvert_exporter": "python",
   "pygments_lexer": "ipython3",
   "version": "3.7.1"
  }
 },
 "nbformat": 4,
 "nbformat_minor": 2
}
